{
  "cells": [
    {
      "cell_type": "raw",
      "metadata": {
        "vscode": {
          "languageId": "raw"
        }
      },
      "source": []
    },
    {
      "cell_type": "markdown",
      "metadata": {},
      "source": [
        "# Header "
      ]
    },
    {
      "cell_type": "markdown",
      "metadata": {},
      "source": [
        "Functionally, Quarto (.qmd) is very similar to Jupyter notebooks (.ipynb) or Rmarkdown (.rmd).  It easily integrates with VS-code or other text editors. However, typically jupyter notebooks rendered in  .html tend to be aesthetically lacking (i.e. ugly). Quarto allows you to create more professional and better looking documents.  You can think of it as a generalization of .ipynb with added functionality on top (i.e. better internal and external cross-referencing, bib-tex integration, better document theming, etc). Outputs of .qmd can also be much more interactive, which we will utilize more heavily in DSAN-5300.\n",
        "\n",
        "::: {layout-ncol=2}\n",
        "### List One\n",
        "\n",
        "- Item A\n",
        "- Item B\n",
        "- Item C\n",
        "\n",
        "### List Two\n",
        "\n",
        "- Item X\n",
        "- Item Y\n",
        "- Item Z\n",
        ":::\n",
        "\n",
        "![](images/2024-09-09-17-44-51.png)\n",
        "\n",
        "![](images/2024-09-09-17-45-32.png)\n",
        "\n",
        "\n",
        "$g(x)=x^n \\rightarrow \\frac{\\partial g}{\\partial x}=n x^{n-1}$"
      ]
    },
    {
      "cell_type": "markdown",
      "metadata": {},
      "source": [
        "## Header-2"
      ]
    },
    {
      "cell_type": "markdown",
      "metadata": {},
      "source": [
        "* This is an example of a bulleted list with math \n",
        "* Here is an in-line math equation $f(x)=\\frac{e^{x^2}}{2}$\n",
        "\n",
        "$$g(x)=x^n \\rightarrow \\frac{\\partial g}{\\partial x}=n x^{n-1}$$\n"
      ]
    },
    {
      "cell_type": "markdown",
      "metadata": {},
      "source": [
        "About this site"
      ]
    },
    {
      "cell_type": "code",
      "execution_count": 1,
      "metadata": {},
      "outputs": [
        {
          "name": "stderr",
          "output_type": "stream",
          "text": [
            "/Users/james/miniforge3/lib/python3.10/site-packages/seaborn/_oldcore.py:1119: FutureWarning: use_inf_as_na option is deprecated and will be removed in a future version. Convert inf values to NaN before operating instead.\n",
            "  with pd.option_context('mode.use_inf_as_na', True):\n",
            "/Users/james/miniforge3/lib/python3.10/site-packages/seaborn/_oldcore.py:1119: FutureWarning: use_inf_as_na option is deprecated and will be removed in a future version. Convert inf values to NaN before operating instead.\n",
            "  with pd.option_context('mode.use_inf_as_na', True):\n",
            "/Users/james/miniforge3/lib/python3.10/site-packages/seaborn/_oldcore.py:1075: FutureWarning: When grouping with a length-1 list-like, you will need to pass a length-1 tuple to get_group in a future version of pandas. Pass `(name,)` instead of `name` to silence this warning.\n",
            "  data_subset = grouped_data.get_group(pd_key)\n"
          ]
        },
        {
          "data": {
            "text/plain": [
              "<seaborn.axisgrid.FacetGrid at 0x156ccb640>"
            ]
          },
          "execution_count": 1,
          "metadata": {},
          "output_type": "execute_result"
        },
        {
          "data": {
            "image/png": "[encoded data removed]",
            "text/plain": [
              "<Figure size 500x500 with 1 Axes>"
            ]
          },
          "metadata": {},
          "output_type": "display_data"
        }
      ],
      "source": [
        "import seaborn as sns\n",
        "tips = sns.load_dataset(\"tips\")\n",
        "sns.catplot(data=tips, x=\"day\", y=\"total_bill\")"
      ]
    },
    {
      "cell_type": "code",
      "execution_count": null,
      "metadata": {},
      "outputs": [],
      "source": []
    }
  ],
  "metadata": {
    "kernelspec": {
      "display_name": "Python 3 (ipykernel)",
      "language": "python",
      "name": "python3"
    },
    "language_info": {
      "codemirror_mode": {
        "name": "ipython",
        "version": 3
      },
      "file_extension": ".py",
      "mimetype": "text/x-python",
      "name": "python",
      "nbconvert_exporter": "python",
      "pygments_lexer": "ipython3",
      "version": "3.10.14"
    }
  },
  "nbformat": 4,
  "nbformat_minor": 4
}
